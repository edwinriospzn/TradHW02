{
 "cells": [
  {
   "cell_type": "code",
   "execution_count": 1,
   "metadata": {},
   "outputs": [],
   "source": [
    "import pandas as pd\n",
    "import numpy as np\n",
    "from datetime import datetime, timedelta\n",
    "import matplotlib.pyplot as plt\n",
    "import yfinance as yf\n",
    "from dateutil.relativedelta import relativedelta"
   ]
  },
  {
   "cell_type": "code",
   "execution_count": 2,
   "metadata": {},
   "outputs": [
    {
     "name": "stdout",
     "output_type": "stream",
     "text": [
      "[*********************100%***********************]  1 of 1 completed\n"
     ]
    }
   ],
   "source": [
    "Stardate=datetime(2005, 1, 1)\n",
    "Enddate=datetime(2011, 12, 31)\n",
    "\n",
    "tck_DJ_data = yf.download('^DJI', Stardate-timedelta(weeks=1),Enddate)\n",
    "Close_DJ_data=pd.DataFrame(tck_DJ_data['Close'])\n"
   ]
  },
  {
   "cell_type": "code",
   "execution_count": 3,
   "metadata": {},
   "outputs": [
    {
     "data": {
      "text/plain": [
       "Date     datetime64[ns]\n",
       "Close           float64\n",
       "dtype: object"
      ]
     },
     "execution_count": 3,
     "metadata": {},
     "output_type": "execute_result"
    }
   ],
   "source": [
    "Close_DJ_data=  Close_DJ_data.reset_index()\n",
    "Close_DJ_data.dtypes"
   ]
  },
  {
   "cell_type": "code",
   "execution_count": 4,
   "metadata": {},
   "outputs": [
    {
     "data": {
      "text/html": [
       "<div>\n",
       "<style scoped>\n",
       "    .dataframe tbody tr th:only-of-type {\n",
       "        vertical-align: middle;\n",
       "    }\n",
       "\n",
       "    .dataframe tbody tr th {\n",
       "        vertical-align: top;\n",
       "    }\n",
       "\n",
       "    .dataframe thead th {\n",
       "        text-align: right;\n",
       "    }\n",
       "</style>\n",
       "<table border=\"1\" class=\"dataframe\">\n",
       "  <thead>\n",
       "    <tr style=\"text-align: right;\">\n",
       "      <th></th>\n",
       "      <th>Date</th>\n",
       "      <th>Close</th>\n",
       "    </tr>\n",
       "  </thead>\n",
       "  <tbody>\n",
       "    <tr>\n",
       "      <th>0</th>\n",
       "      <td>2004-12-27</td>\n",
       "      <td>10776.129883</td>\n",
       "    </tr>\n",
       "    <tr>\n",
       "      <th>1</th>\n",
       "      <td>2004-12-28</td>\n",
       "      <td>10854.540039</td>\n",
       "    </tr>\n",
       "    <tr>\n",
       "      <th>2</th>\n",
       "      <td>2004-12-29</td>\n",
       "      <td>10829.190430</td>\n",
       "    </tr>\n",
       "    <tr>\n",
       "      <th>3</th>\n",
       "      <td>2004-12-30</td>\n",
       "      <td>10800.299805</td>\n",
       "    </tr>\n",
       "    <tr>\n",
       "      <th>4</th>\n",
       "      <td>2004-12-31</td>\n",
       "      <td>10783.009766</td>\n",
       "    </tr>\n",
       "  </tbody>\n",
       "</table>\n",
       "</div>"
      ],
      "text/plain": [
       "        Date         Close\n",
       "0 2004-12-27  10776.129883\n",
       "1 2004-12-28  10854.540039\n",
       "2 2004-12-29  10829.190430\n",
       "3 2004-12-30  10800.299805\n",
       "4 2004-12-31  10783.009766"
      ]
     },
     "execution_count": 4,
     "metadata": {},
     "output_type": "execute_result"
    }
   ],
   "source": [
    "Close_DJ_data.head(5)"
   ]
  },
  {
   "cell_type": "code",
   "execution_count": 5,
   "metadata": {},
   "outputs": [
    {
     "name": "stdout",
     "output_type": "stream",
     "text": [
      "True\n"
     ]
    }
   ],
   "source": [
    "print(datetime(2004,12, 27)==Close_DJ_data['Date'][0])"
   ]
  },
  {
   "cell_type": "code",
   "execution_count": 6,
   "metadata": {},
   "outputs": [],
   "source": [
    "Close_DJ_data = (Close_DJ_data.set_index('Date')\n",
    "      .reindex(pd.date_range(Stardate-timedelta(weeks=1), Enddate, freq='D'))\n",
    "      .rename_axis(['Date'])\n",
    "      .fillna(method='ffill')\n",
    "      .dropna()\n",
    "      .reset_index())"
   ]
  },
  {
   "cell_type": "code",
   "execution_count": 7,
   "metadata": {},
   "outputs": [],
   "source": [
    "paper = pd.read_csv('PreisMoatStanley2013.dat',delimiter=' ', parse_dates =[0,1,100,101] )\n"
   ]
  },
  {
   "cell_type": "code",
   "execution_count": 9,
   "metadata": {},
   "outputs": [],
   "source": [
    "df_gt=pd.DataFrame({'GoogleWE':paper['Google End Date'],'debt':paper['debt'].astype(np.float64),\\\n",
    "    'DJIADate':paper['DJIA Date'],'DJIAClose':paper['DJIA Closing Price'].astype(np.float64)})\n"
   ]
  },
  {
   "cell_type": "code",
   "execution_count": 10,
   "metadata": {},
   "outputs": [],
   "source": [
    "df_gt = (df_gt.set_index('GoogleWE')\n",
    "      .reindex(pd.date_range(Stardate-timedelta(weeks=1), Enddate, freq='D'))\n",
    "      .rename_axis(['GoogleWE'])\n",
    "      .fillna(method='ffill')\n",
    "      .dropna()\n",
    "      .reset_index())"
   ]
  },
  {
   "cell_type": "code",
   "execution_count": 11,
   "metadata": {},
   "outputs": [
    {
     "name": "stdout",
     "output_type": "stream",
     "text": [
      "2005-01-03 00:00:00\n",
      "2004-12-27 00:00:00\n",
      "2004-12-20 00:00:00\n",
      "2004-12-13 00:00:00\n",
      "2004-12-06 00:00:00\n"
     ]
    }
   ],
   "source": [
    "inital_date=datetime(2005,1,3)\n",
    "for i in range(5):\n",
    "    print(inital_date-timedelta(weeks=i))"
   ]
  },
  {
   "cell_type": "code",
   "execution_count": 12,
   "metadata": {},
   "outputs": [
    {
     "data": {
      "text/html": [
       "<div>\n",
       "<style scoped>\n",
       "    .dataframe tbody tr th:only-of-type {\n",
       "        vertical-align: middle;\n",
       "    }\n",
       "\n",
       "    .dataframe tbody tr th {\n",
       "        vertical-align: top;\n",
       "    }\n",
       "\n",
       "    .dataframe thead th {\n",
       "        text-align: right;\n",
       "    }\n",
       "</style>\n",
       "<table border=\"1\" class=\"dataframe\">\n",
       "  <thead>\n",
       "    <tr style=\"text-align: right;\">\n",
       "      <th></th>\n",
       "      <th>GoogleWE</th>\n",
       "      <th>debt</th>\n",
       "      <th>DJIADate</th>\n",
       "      <th>DJIAClose</th>\n",
       "    </tr>\n",
       "  </thead>\n",
       "  <tbody>\n",
       "    <tr>\n",
       "      <th>0</th>\n",
       "      <td>2004-12-25</td>\n",
       "      <td>0.133333</td>\n",
       "      <td>2004-12-27</td>\n",
       "      <td>10776.13</td>\n",
       "    </tr>\n",
       "    <tr>\n",
       "      <th>1</th>\n",
       "      <td>2004-12-26</td>\n",
       "      <td>0.133333</td>\n",
       "      <td>2004-12-27</td>\n",
       "      <td>10776.13</td>\n",
       "    </tr>\n",
       "    <tr>\n",
       "      <th>2</th>\n",
       "      <td>2004-12-27</td>\n",
       "      <td>0.133333</td>\n",
       "      <td>2004-12-27</td>\n",
       "      <td>10776.13</td>\n",
       "    </tr>\n",
       "    <tr>\n",
       "      <th>3</th>\n",
       "      <td>2004-12-28</td>\n",
       "      <td>0.133333</td>\n",
       "      <td>2004-12-27</td>\n",
       "      <td>10776.13</td>\n",
       "    </tr>\n",
       "    <tr>\n",
       "      <th>4</th>\n",
       "      <td>2004-12-29</td>\n",
       "      <td>0.133333</td>\n",
       "      <td>2004-12-27</td>\n",
       "      <td>10776.13</td>\n",
       "    </tr>\n",
       "  </tbody>\n",
       "</table>\n",
       "</div>"
      ],
      "text/plain": [
       "    GoogleWE      debt   DJIADate  DJIAClose\n",
       "0 2004-12-25  0.133333 2004-12-27   10776.13\n",
       "1 2004-12-26  0.133333 2004-12-27   10776.13\n",
       "2 2004-12-27  0.133333 2004-12-27   10776.13\n",
       "3 2004-12-28  0.133333 2004-12-27   10776.13\n",
       "4 2004-12-29  0.133333 2004-12-27   10776.13"
      ]
     },
     "execution_count": 12,
     "metadata": {},
     "output_type": "execute_result"
    }
   ],
   "source": [
    "df_gt.head()"
   ]
  },
  {
   "cell_type": "code",
   "execution_count": 13,
   "metadata": {},
   "outputs": [
    {
     "data": {
      "text/plain": [
       "GoogleWE     datetime64[ns]\n",
       "debt                float64\n",
       "DJIADate     datetime64[ns]\n",
       "DJIAClose           float64\n",
       "dtype: object"
      ]
     },
     "execution_count": 13,
     "metadata": {},
     "output_type": "execute_result"
    }
   ],
   "source": [
    "df_gt.dtypes"
   ]
  },
  {
   "cell_type": "code",
   "execution_count": 14,
   "metadata": {},
   "outputs": [],
   "source": [
    "#Close_DJ_data=Close_DJ_data.loc[Close_DJ_data['Date']>=Stardate+timedelta(days=2)]\n",
    "#df_gt=df_gt.loc[df_gt['GoogleWE']>=Stardate+timedelta(days=2)]"
   ]
  },
  {
   "cell_type": "code",
   "execution_count": 14,
   "metadata": {},
   "outputs": [],
   "source": [
    "Cnsl_db = pd.merge(Close_DJ_data, df_gt, how='inner', left_on = 'Date', right_on='GoogleWE')"
   ]
  },
  {
   "cell_type": "code",
   "execution_count": 15,
   "metadata": {},
   "outputs": [],
   "source": [
    "Cnsl_db=Cnsl_db.loc[Cnsl_db['Date']>=Stardate+timedelta(days=2)]"
   ]
  },
  {
   "cell_type": "code",
   "execution_count": 16,
   "metadata": {},
   "outputs": [
    {
     "data": {
      "text/html": [
       "<div>\n",
       "<style scoped>\n",
       "    .dataframe tbody tr th:only-of-type {\n",
       "        vertical-align: middle;\n",
       "    }\n",
       "\n",
       "    .dataframe tbody tr th {\n",
       "        vertical-align: top;\n",
       "    }\n",
       "\n",
       "    .dataframe thead th {\n",
       "        text-align: right;\n",
       "    }\n",
       "</style>\n",
       "<table border=\"1\" class=\"dataframe\">\n",
       "  <thead>\n",
       "    <tr style=\"text-align: right;\">\n",
       "      <th></th>\n",
       "      <th>Date</th>\n",
       "      <th>Close</th>\n",
       "      <th>GoogleWE</th>\n",
       "      <th>debt</th>\n",
       "      <th>DJIADate</th>\n",
       "      <th>DJIAClose</th>\n",
       "    </tr>\n",
       "  </thead>\n",
       "  <tbody>\n",
       "    <tr>\n",
       "      <th>7</th>\n",
       "      <td>2005-01-03</td>\n",
       "      <td>10729.429688</td>\n",
       "      <td>2005-01-03</td>\n",
       "      <td>0.16</td>\n",
       "      <td>2005-01-03</td>\n",
       "      <td>10729.43</td>\n",
       "    </tr>\n",
       "    <tr>\n",
       "      <th>8</th>\n",
       "      <td>2005-01-04</td>\n",
       "      <td>10630.780273</td>\n",
       "      <td>2005-01-04</td>\n",
       "      <td>0.16</td>\n",
       "      <td>2005-01-03</td>\n",
       "      <td>10729.43</td>\n",
       "    </tr>\n",
       "    <tr>\n",
       "      <th>9</th>\n",
       "      <td>2005-01-05</td>\n",
       "      <td>10597.830078</td>\n",
       "      <td>2005-01-05</td>\n",
       "      <td>0.16</td>\n",
       "      <td>2005-01-03</td>\n",
       "      <td>10729.43</td>\n",
       "    </tr>\n",
       "    <tr>\n",
       "      <th>10</th>\n",
       "      <td>2005-01-06</td>\n",
       "      <td>10622.879883</td>\n",
       "      <td>2005-01-06</td>\n",
       "      <td>0.16</td>\n",
       "      <td>2005-01-03</td>\n",
       "      <td>10729.43</td>\n",
       "    </tr>\n",
       "    <tr>\n",
       "      <th>11</th>\n",
       "      <td>2005-01-07</td>\n",
       "      <td>10603.959961</td>\n",
       "      <td>2005-01-07</td>\n",
       "      <td>0.16</td>\n",
       "      <td>2005-01-03</td>\n",
       "      <td>10729.43</td>\n",
       "    </tr>\n",
       "  </tbody>\n",
       "</table>\n",
       "</div>"
      ],
      "text/plain": [
       "         Date         Close   GoogleWE  debt   DJIADate  DJIAClose\n",
       "7  2005-01-03  10729.429688 2005-01-03  0.16 2005-01-03   10729.43\n",
       "8  2005-01-04  10630.780273 2005-01-04  0.16 2005-01-03   10729.43\n",
       "9  2005-01-05  10597.830078 2005-01-05  0.16 2005-01-03   10729.43\n",
       "10 2005-01-06  10622.879883 2005-01-06  0.16 2005-01-03   10729.43\n",
       "11 2005-01-07  10603.959961 2005-01-07  0.16 2005-01-03   10729.43"
      ]
     },
     "execution_count": 16,
     "metadata": {},
     "output_type": "execute_result"
    }
   ],
   "source": [
    "Cnsl_db.head(5)"
   ]
  },
  {
   "cell_type": "code",
   "execution_count": 17,
   "metadata": {},
   "outputs": [],
   "source": [
    "Cnsl_db2 = (Cnsl_db.set_index('Date')\n",
    "      .reindex(pd.date_range(Stardate+timedelta(days=2), Enddate, freq='W-MON'))\n",
    "      .rename_axis(['Date'])\n",
    "      .dropna()\n",
    "      .reset_index())"
   ]
  },
  {
   "cell_type": "code",
   "execution_count": 18,
   "metadata": {},
   "outputs": [
    {
     "data": {
      "text/plain": [
       "<AxesSubplot:xlabel='Date'>"
      ]
     },
     "execution_count": 18,
     "metadata": {},
     "output_type": "execute_result"
    },
    {
     "data": {
      "image/png": "[encoded data removed]",
      "text/plain": [
       "<Figure size 432x288 with 2 Axes>"
      ]
     },
     "metadata": {
      "needs_background": "light"
     },
     "output_type": "display_data"
    }
   ],
   "source": [
    "ax = Cnsl_db2.plot('Date','Close')\n",
    "ax1 = ax.twinx()\n",
    "Cnsl_db2.plot('Date','debt',ax=ax1, color='r')"
   ]
  },
  {
   "cell_type": "code",
   "execution_count": 31,
   "metadata": {},
   "outputs": [],
   "source": [
    "Google_trends=pd.read_csv('debt_google_trend.csv')\n",
    "Google_trends['Mes']=Google_trends['Mes'].astype('datetime64[ns]')"
   ]
  },
  {
   "cell_type": "code",
   "execution_count": 32,
   "metadata": {},
   "outputs": [],
   "source": [
    "Google_trends = (Google_trends.set_index('Mes')\n",
    "      .reindex(pd.date_range(Stardate-timedelta(weeks=1), Enddate, freq='D'))\n",
    "      .rename_axis(['Mes'])\n",
    "      .fillna(method='ffill')\n",
    "      .dropna()\n",
    "      .reset_index())"
   ]
  },
  {
   "cell_type": "code",
   "execution_count": 33,
   "metadata": {},
   "outputs": [],
   "source": [
    "Cnsl_db_Gtr = pd.merge(Close_DJ_data, Google_trends, how='inner', left_on = 'Date', right_on='Mes')"
   ]
  },
  {
   "cell_type": "code",
   "execution_count": 34,
   "metadata": {},
   "outputs": [],
   "source": [
    "Cnsl_db_Gtr=Cnsl_db_Gtr.loc[Cnsl_db_Gtr['Date']>=Stardate+timedelta(days=2)]"
   ]
  },
  {
   "cell_type": "code",
   "execution_count": 35,
   "metadata": {},
   "outputs": [],
   "source": [
    "Cnsl_db_Gtr2 = (Cnsl_db_Gtr.set_index('Date')\n",
    "      .reindex(pd.date_range(Stardate+timedelta(days=2), Enddate, freq='W-MON'))\n",
    "      .rename_axis(['Date'])\n",
    "      .dropna()\n",
    "      .reset_index())"
   ]
  },
  {
   "cell_type": "code",
   "execution_count": 40,
   "metadata": {},
   "outputs": [
    {
     "data": {
      "text/plain": [
       "<AxesSubplot:xlabel='Date'>"
      ]
     },
     "execution_count": 40,
     "metadata": {},
     "output_type": "execute_result"
    },
    {
     "data": {
      "image/png": "[encoded data removed]",
      "text/plain": [
       "<Figure size 432x288 with 2 Axes>"
      ]
     },
     "metadata": {
      "needs_background": "light"
     },
     "output_type": "display_data"
    }
   ],
   "source": [
    "ax = Cnsl_db_Gtr2.plot('Date','Close')\n",
    "ax1 = ax.twinx()\n",
    "Cnsl_db_Gtr2.plot('Date','debt',ax=ax1, color='r')"
   ]
  },
  {
   "cell_type": "code",
   "execution_count": null,
   "metadata": {},
   "outputs": [],
   "source": []
  },
  {
   "cell_type": "code",
   "execution_count": null,
   "metadata": {},
   "outputs": [],
   "source": []
  }
 ],
 "metadata": {
  "kernelspec": {
   "display_name": "Python 3.9.12 ('base')",
   "language": "python",
   "name": "python3"
  },
  "language_info": {
   "codemirror_mode": {
    "name": "ipython",
    "version": 3
   },
   "file_extension": ".py",
   "mimetype": "text/x-python",
   "name": "python",
   "nbconvert_exporter": "python",
   "pygments_lexer": "ipython3",
   "version": "3.9.12"
  },
  "orig_nbformat": 4,
  "vscode": {
   "interpreter": {
    "hash": "ad2bdc8ecc057115af97d19610ffacc2b4e99fae6737bb82f5d7fb13d2f2c186"
   }
  }
 },
 "nbformat": 4,
 "nbformat_minor": 2
}
